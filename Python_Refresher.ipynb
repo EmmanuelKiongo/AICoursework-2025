{
 "cells": [
  {
   "cell_type": "markdown",
   "id": "576ba66d",
   "metadata": {},
   "source": [
    "Question 1:\n",
    "# Ask the user for number of days\n",
    "days = int(input(\"Enter number of days: \"))\n",
    "\n",
    "# Convert days to seconds\n",
    "seconds = days * 24 * 60 * 60\n",
    "\n",
    "# Display the result\n",
    "print(f\"{days} day(s) is equal to {seconds} seconds.\")"
   ]
  },
  {
   "cell_type": "markdown",
   "id": "4e07aa4f",
   "metadata": {},
   "source": [
    "Question 2:\n",
    "import math\n",
    "\n",
    "# Ask the user to input the radius\n",
    "radius = float(input(\"Enter the radius of the sphere: \"))\n",
    "\n",
    "# Calculate the volume of the sphere\n",
    "volume = (4/3) * math.pi * (radius ** 3)\n",
    "\n",
    "# Display the result\n",
    "print(f\"The volume of a sphere with radius {radius} is {volume:.2f}\")\n",
    "    "
   ]
  },
  {
   "cell_type": "markdown",
   "id": "d5d1b5fa",
   "metadata": {},
   "source": [
    "Question 3:\n",
    "# Function to calculate area of a square\n",
    "def area(side):\n",
    "    return side ** 2\n",
    "\n",
    "# Function to calculate perimeter of a square\n",
    "def perimeter(side):\n",
    "    return 4 * side\n",
    "\n",
    "# Main program\n",
    "def main():\n",
    "    # Ask user for side length\n",
    "    side = float(input(\"Enter the side length of the square: \"))\n",
    "    \n",
    "    # Compute area and perimeter\n",
    "    square_area = area(side)\n",
    "    square_perimeter = perimeter(side)\n",
    "    \n",
    "    # Display results\n",
    "    print(f\"Area of the square: {square_area}\")\n",
    "    print(f\"Perimeter of the square: {square_perimeter}\")\n",
    "\n",
    "# Run the program\n",
    "main()"
   ]
  },
  {
   "cell_type": "markdown",
   "id": "c6da7b35",
   "metadata": {},
   "source": [
    "Question 4\n",
    "# Function to check if a character is uppercase or lowercase\n",
    "def check_case(char):\n",
    "    if char.isupper():\n",
    "        return \"Uppercase\"\n",
    "    elif char.islower():\n",
    "        return \"Lowercase\"\n",
    "    else:\n",
    "        return \"Not a letter\"\n",
    "\n",
    "# Main program\n",
    "def main():\n",
    "    char = input(\"Enter a single character: \")\n",
    "    \n",
    "    # Ensure only one character was entered\n",
    "    if len(char) != 1:\n",
    "        print(\"Please enter exactly one character.\")\n",
    "    else:\n",
    "        result = check_case(char)\n",
    "        print(f\"The character '{char}' is {result}.\")\n",
    "\n",
    "# Run the program\n",
    "main()"
   ]
  },
  {
   "cell_type": "markdown",
   "id": "adfb2367",
   "metadata": {},
   "source": [
    "Question 5\n",
    "# Initialize variables\n",
    "x = 0\n",
    "y = 20\n",
    "\n",
    "# Repeat until y is less than 6\n",
    "while y >= 6:\n",
    "    y = y - 4         # Subtract 4 from y\n",
    "    x = x + (2 / y)   # Add 2/y to x\n",
    "\n",
    "# Display result\n",
    "print(\"Final value of x:\", x)"
   ]
  },
  {
   "cell_type": "markdown",
   "id": "7a7e8cbe",
   "metadata": {},
   "source": [
    "Question 6\n",
    "# Program to input 5 values into an array and compute the average\n",
    "\n",
    "def main():\n",
    "    numbers = []  # empty list (array)\n",
    "\n",
    "    # Loop to get 5 values\n",
    "    for i in range(5):\n",
    "        value = float(input(f\"Enter value {i+1}: \"))\n",
    "        numbers.append(value)\n",
    "\n",
    "    # Calculate average\n",
    "    average = sum(numbers) / len(numbers)\n",
    "\n",
    "    # Display results\n",
    "    print(\"\\nValues entered:\", numbers)\n",
    "    print(f\"Average of the values: {average:.2f}\")\n",
    "\n",
    "# Run the program\n",
    "main()"
   ]
  }
 ],
 "metadata": {
  "language_info": {
   "name": "python"
  }
 },
 "nbformat": 4,
 "nbformat_minor": 5
}
